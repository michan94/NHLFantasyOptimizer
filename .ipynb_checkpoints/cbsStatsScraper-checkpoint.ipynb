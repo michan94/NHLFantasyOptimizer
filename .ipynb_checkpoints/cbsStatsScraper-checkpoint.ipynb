{
 "cells": [
  {
   "cell_type": "code",
   "execution_count": 292,
   "id": "14652b3c-748c-4907-b22d-9baf47deb928",
   "metadata": {},
   "outputs": [],
   "source": [
    "# TODO\n",
    "\n",
    "# 1. Enable input for custom fpt values for league settings\n",
    "# 2. Add 'if' case in Data table for Goalies"
   ]
  },
  {
   "cell_type": "code",
   "execution_count": 1,
   "id": "1c17c0ac-250f-4cdf-8aef-b419e8d65ffd",
   "metadata": {},
   "outputs": [],
   "source": [
    "import pandas as pd\n",
    "import playerposition as pp\n",
    "import gazpacho as gp\n",
    "from gazpacho import get, Soup"
   ]
  },
  {
   "cell_type": "code",
   "execution_count": 2,
   "id": "13e14dde-a19e-44c5-826d-c0da3f66789d",
   "metadata": {},
   "outputs": [],
   "source": [
    "# Input your league's points settings values here:\n",
    "\n",
    "pointValues = {'GL':1,'A':0.5,'PTS':0.5,'SOG':0.2,'STP':0.5,'DEFPTS':0.5,'W':3,'SV':0.2, 'GA':-0.5, 'OTL':1}\n",
    "\n",
    "# def totalFantasyPoints(position,goals,assists,points,shotsOnGoal,wins,saves,goalsAgainst,otLoss):\n",
    "#     totalPts = 0\n",
    "#     if position == 'G':\n",
    "        \n",
    "#     goalValue = goals*pointValues['GL']\n",
    "    \n",
    "#     return totalPts\n"
   ]
  },
  {
   "cell_type": "code",
   "execution_count": 15,
   "id": "a639a222-ac7d-4bee-9f0a-f11c3a180767",
   "metadata": {},
   "outputs": [
    {
     "name": "stdin",
     "output_type": "stream",
     "text": [
      "Input one of: F, C, W, D, G W\n"
     ]
    },
    {
     "name": "stdout",
     "output_type": "stream",
     "text": [
      "URL: https://www.cbssports.com/fantasy/hockey/stats/W/2021/restofseason/projections\n"
     ]
    }
   ],
   "source": [
    "# CBS Data\n",
    "positionInput = input(f'Input one of: F, C, W, D, G')\n",
    "\n",
    "position = positionInput\n",
    "\n",
    "baseUrl = f'https://www.cbssports.com/fantasy/hockey/stats'\n",
    "url = f'{baseUrl}/{position}/2021/restofseason/projections'\n",
    "\n",
    "print(f'URL: {url}')\n",
    "\n",
    "html = get(url)"
   ]
  },
  {
   "cell_type": "code",
   "execution_count": 16,
   "id": "540025a5-5121-4c11-90d6-2cb03c76b004",
   "metadata": {},
   "outputs": [
    {
     "name": "stdout",
     "output_type": "stream",
     "text": [
      "                  PLAYER  oZS%  dZS% TOI/60 TOI(EV) TOI(ST)\n",
      "0     Nicholas Abruzzese  46.3  53.7  10:13    9:11    1:02\n",
      "1           Noel Acciari    52    48  11:59   10:38    1:21\n",
      "2          Calen Addison  50.5  49.5  13:47   12:16    1:31\n",
      "3        Andrew Agozzino    50    50   6:52    6:52    0:00\n",
      "4             Jack Ahcan  59.2  40.8  16:02   15:29    0:33\n",
      "...                  ...   ...   ...    ...     ...     ...\n",
      "999       Mika Zibanejad    48    52  19:38   14:46    4:52\n",
      "1000       Radim Zohorna  38.6  61.4  10:20    9:49    0:31\n",
      "1001           Artem Zub  49.9  50.1  21:02   18:54    2:08\n",
      "1002     Mats Zuccarello  61.8  38.2  18:35   15:25    3:10\n",
      "1003        Jason Zucker  46.8  53.2  14:49   13:18    1:31\n",
      "\n",
      "[1004 rows x 6 columns]\n"
     ]
    }
   ],
   "source": [
    "# Hockey-Reference Advanced Stats\n",
    "\n",
    "ASData = pd.read_csv(f'./data/NHLAdvancedStats_Players2122.csv')\n",
    "\n",
    "# Parsing Advanced Stats Data\n",
    "advancedDF = pd.DataFrame(ASData)\n",
    "cols = [3,19,20,21,22,23]\n",
    "advancedDF = advancedDF[advancedDF.columns[cols]]\n",
    "print(advancedDF)"
   ]
  },
  {
   "cell_type": "code",
   "execution_count": 17,
   "id": "a1e0e699-05ed-4f4d-87c8-927251c0165b",
   "metadata": {},
   "outputs": [],
   "source": [
    "# Parsing of HTML and extracting 'TableBase-bodyTr' tag\n",
    "soup = Soup(html)\n",
    "rows = soup.find('tr', {'class': 'TableBase-bodyTr'})\n",
    "headers = soup.find('tr', {'class': 'TableBase-headTr'})"
   ]
  },
  {
   "cell_type": "code",
   "execution_count": 18,
   "id": "944a946f-7e0f-4963-b7bb-502cadd3ecc8",
   "metadata": {},
   "outputs": [
    {
     "name": "stdout",
     "output_type": "stream",
     "text": [
      "                PLAYER TEAM POS   G   A    P  SOG  oZS%  dZS% TOI/60 TOI(EV)  \\\n",
      "0      Johnny Gaudreau  CLB  LW  40  75  115  262  53.9  46.1  18:34   15:34   \n",
      "1      Matthew Tkachuk  FLA  LW  42  62  104  253  53.3  46.8  17:54   14:57   \n",
      "2      Kirill Kaprizov  MIN  LW  47  61  108  289  63.1  36.9  19:06   15:45   \n",
      "3   Jonathan Huberdeau  CGY  LW  30  85  115  222  70.2  29.8  19:25   13:53   \n",
      "4       Mikko Rantanen  COL  RW  36  56   92  254  58.2  41.8  20:59   16:57   \n",
      "..                 ...  ...  ..  ..  ..  ...  ...   ...   ...    ...     ...   \n",
      "93        Reilly Smith   LV  RW  16  22   38  150  53.8  46.2  17:47   14:13   \n",
      "94        Alex Iafallo   LA   C  17  20   37  215  48.2  51.8  18:30   14:06   \n",
      "95         Phil Kessel  ARI  RW   8  44   52  175    48    52  16:41   13:55   \n",
      "96      Tanner Pearson  VAN  LW  14  20   34  159  48.2  51.8  16:03   13:45   \n",
      "97         Josh Bailey  NYI  LW  14  30   44   87  51.9  48.1  16:53   14:15   \n",
      "\n",
      "   TOI(ST)  \n",
      "0     3:00  \n",
      "1     2:57  \n",
      "2     3:21  \n",
      "3     5:32  \n",
      "4     4:02  \n",
      "..     ...  \n",
      "93    3:34  \n",
      "94    4:24  \n",
      "95    2:46  \n",
      "96    2:18  \n",
      "97    2:38  \n",
      "\n",
      "[98 rows x 12 columns]\n"
     ]
    }
   ],
   "source": [
    "# Data to Table (Players)\n",
    "\n",
    "def parse_header(header):\n",
    "    player = header.find('a')[0].text.upper().strip()\n",
    "    position = 'POS'\n",
    "    team = 'TEAM'\n",
    "    goals = header.find('a')[4].text.upper()\n",
    "    assists = header.find('a')[5].text.upper()\n",
    "    points = header.find('a')[6].text.upper()\n",
    "    shotsOnGoal = header.find('a')[15].text.upper()\n",
    "    return player, team, position, goals, assists, points, shotsOnGoal\n",
    "\n",
    "def parse_row(row):\n",
    "    # currPlayer is its own class \"CellPlayerName--long\" in 'TableBase-bodyTr'\n",
    "    # Find name, position, team for currPlayer\n",
    "    currPlayer = row.find('span', {'class': \"CellPlayerName--long\"})\n",
    "    name = currPlayer.find('a').text\n",
    "    position = currPlayer.find('span', {'class': 'CellPlayerName-position'}).text\n",
    "    team = currPlayer.find('span', {'class': 'CellPlayerName-team'}).text\n",
    "    \n",
    "    goals = int(row.find('td', {'class': 'TableBase-bodyTd'})[4].text)\n",
    "    assists = int(row.find('td', {'class': 'TableBase-bodyTd'})[5].text)\n",
    "    points = int(row.find('td', {'class': 'TableBase-bodyTd'})[6].text)\n",
    "    shotsOnGoal = int(row.find('td', {'class': 'TableBase-bodyTd'})[15].text)\n",
    "    return name, team, position, goals, assists, points, shotsOnGoal\n",
    "\n",
    "playerInfoDF = (pd.DataFrame([parse_row(row) for row in rows], columns=parse_header(headers)))\n",
    "# print(playerInfoDF.columns)\n",
    "# print(advancedDF.columns)\n",
    "# print(playerInfoDF.columns.intersection(advancedDF.columns))\n",
    "result = pd.merge(playerInfoDF,advancedDF,on='PLAYER')\n",
    "print(result)"
   ]
  },
  {
   "cell_type": "code",
   "execution_count": null,
   "id": "a65a56f2-f49a-404c-b5d5-7b6e7abff20a",
   "metadata": {},
   "outputs": [],
   "source": []
  }
 ],
 "metadata": {
  "kernelspec": {
   "display_name": "Python 3 (ipykernel)",
   "language": "python",
   "name": "python3"
  },
  "language_info": {
   "codemirror_mode": {
    "name": "ipython",
    "version": 3
   },
   "file_extension": ".py",
   "mimetype": "text/x-python",
   "name": "python",
   "nbconvert_exporter": "python",
   "pygments_lexer": "ipython3",
   "version": "3.9.7"
  }
 },
 "nbformat": 4,
 "nbformat_minor": 5
}
