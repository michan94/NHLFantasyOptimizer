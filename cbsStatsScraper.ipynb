{
 "cells": [
  {
   "cell_type": "code",
   "execution_count": 128,
   "id": "14652b3c-748c-4907-b22d-9baf47deb928",
   "metadata": {},
   "outputs": [],
   "source": [
    "# TODO\n",
    "\n",
    "# 1. Commented out STP because need to find source of PPP and SHP\n",
    "# 2. Add graphs"
   ]
  },
  {
   "cell_type": "code",
   "execution_count": 162,
   "id": "1c17c0ac-250f-4cdf-8aef-b419e8d65ffd",
   "metadata": {},
   "outputs": [],
   "source": [
    "import gazpacho as gp\n",
    "import pandas as pd\n",
    "from gazpacho import Soup, get\n",
    "\n",
    "import playerposition as pp"
   ]
  },
  {
   "cell_type": "code",
   "execution_count": 163,
   "id": "a639a222-ac7d-4bee-9f0a-f11c3a180767",
   "metadata": {},
   "outputs": [
    {
     "name": "stdin",
     "output_type": "stream",
     "text": [
      "Input one of: F, C, W, D, G G\n"
     ]
    },
    {
     "name": "stdout",
     "output_type": "stream",
     "text": [
      "URL: https://www.cbssports.com/fantasy/hockey/stats/G/2021/restofseason/projections\n"
     ]
    }
   ],
   "source": [
    "# CBS Data\n",
    "positionInput = input(f\"Input one of: F, C, W, D, G\")\n",
    "\n",
    "position = positionInput.upper()\n",
    "\n",
    "baseUrl = f\"https://www.cbssports.com/fantasy/hockey/stats\"\n",
    "url = f\"{baseUrl}/{position}/2021/restofseason/projections\"\n",
    "\n",
    "print(f\"URL: {url}\")\n",
    "\n",
    "html = get(url)"
   ]
  },
  {
   "cell_type": "code",
   "execution_count": 164,
   "id": "13e14dde-a19e-44c5-826d-c0da3f66789d",
   "metadata": {},
   "outputs": [],
   "source": [
    "# League Scoring Settings\n",
    "\n",
    "pointValues = {\n",
    "    \"G\": 1.0,\n",
    "    \"A\": 0.5,\n",
    "    \"PTS\": 0.5,\n",
    "    \"SOG\": 0.2,\n",
    "    # \"STP\": 0.5,\n",
    "    \"DEF\": 0.5,\n",
    "    \"W\": 3.0,\n",
    "    \"SV\": 0.2,\n",
    "    \"GA\": -0.5,\n",
    "    # \"OTL\": 1.0,\n",
    "}"
   ]
  },
  {
   "cell_type": "code",
   "execution_count": 165,
   "id": "a65a56f2-f49a-404c-b5d5-7b6e7abff20a",
   "metadata": {},
   "outputs": [
    {
     "name": "stdout",
     "output_type": "stream",
     "text": [
      "Please enter all values as floats (e.g. 1.0)\n",
      "To skip a category, press ENTER\n"
     ]
    },
    {
     "name": "stdin",
     "output_type": "stream",
     "text": [
      "Value of G \n",
      "Value of A \n",
      "Value of PTS \n",
      "Value of SOG \n",
      "Value of DEF \n",
      "Value of W 10\n",
      "Value of SV 0.1\n"
     ]
    },
    {
     "name": "stdout",
     "output_type": "stream",
     "text": [
      "Successfully updated value of SV\n"
     ]
    },
    {
     "name": "stdin",
     "output_type": "stream",
     "text": [
      "Value of GA 0.9\n"
     ]
    },
    {
     "name": "stdout",
     "output_type": "stream",
     "text": [
      "Successfully updated value of GA\n",
      "{'G': 1.0, 'A': 0.5, 'PTS': 0.5, 'SOG': 0.2, 'DEF': 0.5, 'W': 3.0, 'SV': 0.1, 'GA': -0.9}\n"
     ]
    }
   ],
   "source": [
    "# Invoke this cell if you'd like to change the scoring values of your category\n",
    "\n",
    "\n",
    "def isFloat(checkInput: str):\n",
    "    if \".\" in checkInput:\n",
    "        split_number = checkInput.split(\".\")\n",
    "        if (\n",
    "            len(split_number) == 2\n",
    "            and split_number[0].isdigit()\n",
    "            and split_number[1].isdigit()\n",
    "        ):\n",
    "            return True\n",
    "    return False\n",
    "\n",
    "\n",
    "# category is one of: G, A, PTS, SOG, STP, DEF, W, SV, GA, OTL\n",
    "def changeScoringValuesHelper(category: str):\n",
    "    categoryKey = category.upper()\n",
    "    if categoryKey not in pointValues.keys():\n",
    "        return\n",
    "    categoryVal = input(f\"Value of {categoryKey}\")\n",
    "    if isFloat(categoryVal):\n",
    "        try:\n",
    "            pointValues[categoryKey] = (\n",
    "                float(categoryVal) if categoryKey != \"GA\" else (float(categoryVal) * -1)\n",
    "            )\n",
    "            print(f\"Successfully updated value of {categoryKey}\")\n",
    "        except:\n",
    "            print(f\"Value not updated\")\n",
    "            pass\n",
    "\n",
    "\n",
    "def changeScoringValues():\n",
    "    print(f\"Please enter all values as floats (e.g. 1.0)\")\n",
    "    print(f\"To skip a category, press ENTER\")\n",
    "    changeScoringValuesHelper(\"G\")\n",
    "    changeScoringValuesHelper(\"A\")\n",
    "    changeScoringValuesHelper(\"PTS\")\n",
    "    changeScoringValuesHelper(\"SOG\")\n",
    "    # changeScoringValuesHelper(\"STP\")\n",
    "    changeScoringValuesHelper(\"DEF\")\n",
    "    changeScoringValuesHelper(\"W\")\n",
    "    changeScoringValuesHelper(\"SV\")\n",
    "    changeScoringValuesHelper(\"GA\")\n",
    "    # changeScoringValuesHelper(\"OTL\")\n",
    "\n",
    "\n",
    "changeScoringValues()\n",
    "print(pointValues)"
   ]
  },
  {
   "cell_type": "code",
   "execution_count": 166,
   "id": "55634605-5386-4648-b577-e9e271e1bf28",
   "metadata": {},
   "outputs": [],
   "source": [
    "# Computer individual player's FPTS according to category values\n",
    "\n",
    "# pointValues = {\n",
    "#     \"G\": 1.0,\n",
    "#     \"A\": 0.5,\n",
    "#     \"PTS\": 0.5,\n",
    "#     \"SOG\": 0.2,\n",
    "#     \"STP\": 0.5,\n",
    "#     \"DEF\": 0.5,\n",
    "#     \"W\": 3.0,\n",
    "#     \"SV\": 0.2,\n",
    "#     \"GA\": -0.5,\n",
    "#     \"OTL\": 1.0,\n",
    "# }\n",
    "\n",
    "\n",
    "def computeTotalFPTForward(G: int, A: int, PTS: int, SOG: int):\n",
    "    GVal = G * pointValues[\"G\"]\n",
    "    AVal = A * pointValues[\"A\"]\n",
    "    PTSVal = PTS * pointValues[\"PTS\"]\n",
    "    SOGVal = SOG * pointValues[\"SOG\"]\n",
    "    result = GVal + AVal + PTSVal + SOGVal\n",
    "    return result\n",
    "\n",
    "\n",
    "def computeTotalFPTDefence(G: int, A: int, PTS: int, SOG: int):\n",
    "    GVal = G * pointValues[\"G\"]\n",
    "    AVal = A * pointValues[\"A\"]\n",
    "    PTSVal = PTS * pointValues[\"PTS\"]\n",
    "    SOGVal = SOG * pointValues[\"SOG\"]\n",
    "    DEFVal = PTS * pointValues[\"DEF\"]\n",
    "    result = GVal + AVal + PTSVal + SOGVal + DEFVal\n",
    "    return result\n",
    "\n",
    "\n",
    "def computeTotalFPTGoalie(W: int, GA: int, SV: int):\n",
    "    WVal = W * pointValues[\"W\"]\n",
    "    GAVal = GA * pointValues[\"GA\"]\n",
    "    SVVal = SV * pointValues[\"SV\"]\n",
    "    result = WVal + GAVal + SVVal\n",
    "    # result = SVVal\n",
    "    return result"
   ]
  },
  {
   "cell_type": "code",
   "execution_count": 107,
   "id": "540025a5-5121-4c11-90d6-2cb03c76b004",
   "metadata": {},
   "outputs": [
    {
     "name": "stdout",
     "output_type": "stream",
     "text": [
      "                  PLAYER  oZS%  dZS% TOI/60 TOI(EV) TOI(ST)\n",
      "0     Nicholas Abruzzese  46.3  53.7  10:13    9:11    1:02\n",
      "1           Noel Acciari    52    48  11:59   10:38    1:21\n",
      "2          Calen Addison  50.5  49.5  13:47   12:16    1:31\n",
      "3        Andrew Agozzino    50    50   6:52    6:52    0:00\n",
      "4             Jack Ahcan  59.2  40.8  16:02   15:29    0:33\n",
      "...                  ...   ...   ...    ...     ...     ...\n",
      "999       Mika Zibanejad    48    52  19:38   14:46    4:52\n",
      "1000       Radim Zohorna  38.6  61.4  10:20    9:49    0:31\n",
      "1001           Artem Zub  49.9  50.1  21:02   18:54    2:08\n",
      "1002     Mats Zuccarello  61.8  38.2  18:35   15:25    3:10\n",
      "1003        Jason Zucker  46.8  53.2  14:49   13:18    1:31\n",
      "\n",
      "[1004 rows x 6 columns]\n"
     ]
    }
   ],
   "source": [
    "# Hockey-Reference Advanced Stats\n",
    "\n",
    "ASData = pd.read_csv(f\"./data/NHLAdvancedStats_Players2122.csv\")\n",
    "\n",
    "# Parsing Advanced Stats Data\n",
    "advancedDF = pd.DataFrame(ASData)\n",
    "cols = [3, 19, 20, 21, 22, 23]\n",
    "advancedDF = advancedDF[advancedDF.columns[cols]]\n",
    "print(advancedDF)"
   ]
  },
  {
   "cell_type": "code",
   "execution_count": 167,
   "id": "a1e0e699-05ed-4f4d-87c8-927251c0165b",
   "metadata": {},
   "outputs": [],
   "source": [
    "# Parsing of HTML and extracting 'TableBase-bodyTr' tag\n",
    "soup = Soup(html)\n",
    "rows = soup.find(\"tr\", {\"class\": \"TableBase-bodyTr\"})\n",
    "headers = soup.find(\"tr\", {\"class\": \"TableBase-headTr\"})"
   ]
  },
  {
   "cell_type": "code",
   "execution_count": 169,
   "id": "944a946f-7e0f-4963-b7bb-502cadd3ecc8",
   "metadata": {},
   "outputs": [
    {
     "name": "stdout",
     "output_type": "stream",
     "text": [
      "                PLAYER TEAM POS   FPTS   W  SO   GA    SV    SA\n",
      "0          Juuse Saros  NSH   G  151.7  38   4  173  2107  1934\n",
      "1      Jacob Markstrom  CGY   G  149.4  37   9  137  1754  1617\n",
      "2      Igor Shesterkin  NYR   G  164.2  36   6  106  1622  1516\n",
      "3   Andrei Vasilevskiy   TB   G  147.8  39   2  156  1868  1712\n",
      "4        Darcy Kuemper  WAS   G  148.4  37   5  138  1754  1616\n",
      "..                 ...  ...  ..    ...  ..  ..  ...   ...   ...\n",
      "95          Joel Hofer  STL   G    2.0   1   0    6    50    44\n",
      "96      Justus Annunen  COL   G    1.1   1   0    7    51    44\n",
      "97       Keith Kinkaid  BOS   G    4.1   1   0    2    31    29\n",
      "98      Calvin Pickard  EDM   G    1.2   1   0    9    72    63\n",
      "99        Mads Sogaard  OTT   G    2.4   1   0    6    54    48\n",
      "\n",
      "[100 rows x 9 columns]\n"
     ]
    }
   ],
   "source": [
    "# Data to Table (Players)\n",
    "\n",
    "\n",
    "def parse_header(header, pos: str):\n",
    "    player = header.find(\"a\")[0].text.upper().strip()\n",
    "    position = \"POS\"\n",
    "    team = \"TEAM\"\n",
    "    fpts = \"FPTS\"\n",
    "\n",
    "    # Skaters\n",
    "    if pos != \"G\":\n",
    "        goalsScored = header.find(\"a\")[4].text.upper()\n",
    "        assists = header.find(\"a\")[5].text.upper()\n",
    "        points = header.find(\"a\")[6].text.upper()\n",
    "        shotsOnGoal = header.find(\"a\")[15].text.upper()\n",
    "        return player, team, position, fpts, goalsScored, assists, points, shotsOnGoal\n",
    "    # Goalies\n",
    "    else:\n",
    "        wins = header.find(\"a\")[5].text.upper()\n",
    "        shutouts = header.find(\"a\")[7].text.upper()\n",
    "        goalsAgainst = header.find(\"a\")[8].text.upper()\n",
    "        shotsAgainst = header.find(\"a\")[10].text.upper()\n",
    "        saves = header.find(\"a\")[11].text.upper()\n",
    "        return (\n",
    "            player,\n",
    "            team,\n",
    "            position,\n",
    "            fpts,\n",
    "            wins,\n",
    "            shutouts,\n",
    "            goalsAgainst,\n",
    "            shotsAgainst,\n",
    "            saves,\n",
    "        )\n",
    "\n",
    "\n",
    "def parse_row(row, pos: str):\n",
    "    # currPlayer is its own class \"CellPlayerName--long\" in 'TableBase-bodyTr'\n",
    "    # Find name, position, team for currPlayer\n",
    "    currPlayer = row.find(\"span\", {\"class\": \"CellPlayerName--long\"})\n",
    "    name = currPlayer.find(\"a\").text\n",
    "    position = currPlayer.find(\"span\", {\"class\": \"CellPlayerName-position\"}).text\n",
    "    team = currPlayer.find(\"span\", {\"class\": \"CellPlayerName-team\"}).text\n",
    "\n",
    "    # Skaters\n",
    "    if pos != \"G\":\n",
    "        goalsScored = int(row.find(\"td\", {\"class\": \"TableBase-bodyTd\"})[4].text)\n",
    "        assists = int(row.find(\"td\", {\"class\": \"TableBase-bodyTd\"})[5].text)\n",
    "        points = int(row.find(\"td\", {\"class\": \"TableBase-bodyTd\"})[6].text)\n",
    "        shotsOnGoal = int(row.find(\"td\", {\"class\": \"TableBase-bodyTd\"})[15].text)\n",
    "\n",
    "        fpts = (\n",
    "            computeTotalFPTForward(goalsScored, assists, points, shotsOnGoal)\n",
    "            if position != \"D\"\n",
    "            else computeTotalFPTDefence(goalsScored, assists, points, shotsOnGoal)\n",
    "        )\n",
    "        return name, team, position, fpts, goalsScored, assists, points, shotsOnGoal\n",
    "    # Goalies\n",
    "    else:\n",
    "        wins = int(row.find(\"td\", {\"class\": \"TableBase-bodyTd\"})[5].text.strip()) if row.find(\"td\", {\"class\": \"TableBase-bodyTd\"})[5].text.strip().isnumeric() else 0\n",
    "        shutouts = int(row.find(\"td\", {\"class\": \"TableBase-bodyTd\"})[7].text.strip()) if row.find(\"td\", {\"class\": \"TableBase-bodyTd\"})[7].text.strip().isnumeric() else 0\n",
    "        goalsAgainst = int(row.find(\"td\", {\"class\": \"TableBase-bodyTd\"})[8].text)\n",
    "        saves = int(row.find(\"td\", {\"class\": \"TableBase-bodyTd\"})[10].text)\n",
    "        shotsAgainst = int(row.find(\"td\", {\"class\": \"TableBase-bodyTd\"})[11].text)\n",
    "        fpts = computeTotalFPTGoalie(wins, goalsAgainst, saves)\n",
    "\n",
    "        return (\n",
    "            name,\n",
    "            team,\n",
    "            position,\n",
    "            fpts,\n",
    "            wins,\n",
    "            shutouts,\n",
    "            goalsAgainst,\n",
    "            shotsAgainst,\n",
    "            saves,\n",
    "        )\n",
    "\n",
    "\n",
    "playerInfoDF = pd.DataFrame(\n",
    "    [parse_row(row, position) for row in rows], columns=parse_header(headers, position)\n",
    ")\n",
    "# print(playerInfoDF.columns)\n",
    "# print(advancedDF.columns)\n",
    "# print(playerInfoDF.columns.intersection(advancedDF.columns))\n",
    "\n",
    "\n",
    "if position != \"G\":\n",
    "    result = pd.merge(playerInfoDF, advancedDF, on=\"PLAYER\")\n",
    "else:\n",
    "    result = playerInfoDF\n",
    "print(result)"
   ]
  },
  {
   "cell_type": "code",
   "execution_count": null,
   "id": "fcc5137e-e9a6-44cd-9dc5-fac14bc27b70",
   "metadata": {},
   "outputs": [],
   "source": []
  },
  {
   "cell_type": "code",
   "execution_count": null,
   "id": "87625e7d-8e63-4706-bbc3-a4fdaa657c21",
   "metadata": {},
   "outputs": [],
   "source": []
  }
 ],
 "metadata": {
  "kernelspec": {
   "display_name": "Python 3 (ipykernel)",
   "language": "python",
   "name": "python3"
  },
  "language_info": {
   "codemirror_mode": {
    "name": "ipython",
    "version": 3
   },
   "file_extension": ".py",
   "mimetype": "text/x-python",
   "name": "python",
   "nbconvert_exporter": "python",
   "pygments_lexer": "ipython3",
   "version": "3.9.7"
  }
 },
 "nbformat": 4,
 "nbformat_minor": 5
}
