{
 "cells": [
  {
   "cell_type": "code",
   "execution_count": 292,
   "id": "14652b3c-748c-4907-b22d-9baf47deb928",
   "metadata": {},
   "outputs": [],
   "source": [
    "# TODO\n",
    "\n",
    "# 1. computerTotalFantasyPoints()"
   ]
  },
  {
   "cell_type": "code",
   "execution_count": 1,
   "id": "1c17c0ac-250f-4cdf-8aef-b419e8d65ffd",
   "metadata": {},
   "outputs": [],
   "source": [
    "import gazpacho as gp\n",
    "import pandas as pd\n",
    "from gazpacho import Soup, get\n",
    "\n",
    "import playerposition as pp"
   ]
  },
  {
   "cell_type": "code",
   "execution_count": 2,
   "id": "a639a222-ac7d-4bee-9f0a-f11c3a180767",
   "metadata": {},
   "outputs": [
    {
     "name": "stdin",
     "output_type": "stream",
     "text": [
      "Input one of: F, C, W, D, G f\n"
     ]
    },
    {
     "name": "stdout",
     "output_type": "stream",
     "text": [
      "URL: https://www.cbssports.com/fantasy/hockey/stats/F/2021/restofseason/projections\n"
     ]
    }
   ],
   "source": [
    "# CBS Data\n",
    "positionInput = input(f\"Input one of: F, C, W, D, G\")\n",
    "\n",
    "position = positionInput.upper()\n",
    "\n",
    "baseUrl = f\"https://www.cbssports.com/fantasy/hockey/stats\"\n",
    "url = f\"{baseUrl}/{position}/2021/restofseason/projections\"\n",
    "\n",
    "print(f\"URL: {url}\")\n",
    "\n",
    "html = get(url)"
   ]
  },
  {
   "cell_type": "code",
   "execution_count": 3,
   "id": "13e14dde-a19e-44c5-826d-c0da3f66789d",
   "metadata": {},
   "outputs": [],
   "source": [
    "# League Scoring Settings\n",
    "\n",
    "pointValues = {\n",
    "    \"G\": 1.0,\n",
    "    \"A\": 0.5,\n",
    "    \"PTS\": 0.5,\n",
    "    \"SOG\": 0.2,\n",
    "    \"STP\": 0.5,\n",
    "    \"DEF\": 0.5,\n",
    "    \"W\": 3.0,\n",
    "    \"SV\": 0.2,\n",
    "    \"GA\": -0.5,\n",
    "    \"OTL\": 1.0,\n",
    "}"
   ]
  },
  {
   "cell_type": "code",
   "execution_count": 8,
   "id": "a65a56f2-f49a-404c-b5d5-7b6e7abff20a",
   "metadata": {},
   "outputs": [
    {
     "name": "stdout",
     "output_type": "stream",
     "text": [
      "Please enter all values as floats (e.g. 1.0)\n"
     ]
    },
    {
     "name": "stdin",
     "output_type": "stream",
     "text": [
      "Value of Goals 4\n",
      "Value of Assists 5,88\n",
      "Value of Points 4.5\n"
     ]
    },
    {
     "name": "stdout",
     "output_type": "stream",
     "text": [
      "Updated value of PTS to 4.5\n"
     ]
    },
    {
     "name": "stdin",
     "output_type": "stream",
     "text": [
      "Value of Shots on Goal 3.5\n"
     ]
    },
    {
     "name": "stdout",
     "output_type": "stream",
     "text": [
      "Updated value of SOG to 3.5\n"
     ]
    },
    {
     "name": "stdin",
     "output_type": "stream",
     "text": [
      "Value of STP 8.7\n"
     ]
    },
    {
     "name": "stdout",
     "output_type": "stream",
     "text": [
      "Updated value of STP to 8.7\n"
     ]
    },
    {
     "name": "stdin",
     "output_type": "stream",
     "text": [
      "Value of DEF 4.7\n"
     ]
    },
    {
     "name": "stdout",
     "output_type": "stream",
     "text": [
      "Updated value of DEF to 4.7\n"
     ]
    },
    {
     "name": "stdin",
     "output_type": "stream",
     "text": [
      "Value of Wins 22\n",
      "Value of Saves 3.4\n"
     ]
    },
    {
     "name": "stdout",
     "output_type": "stream",
     "text": [
      "Updated value of SV to 3.4\n"
     ]
    },
    {
     "name": "stdin",
     "output_type": "stream",
     "text": [
      "Value of Goals Against (as positive value) 5.666666\n"
     ]
    },
    {
     "name": "stdout",
     "output_type": "stream",
     "text": [
      "Updated value of GA to -5.666666\n"
     ]
    },
    {
     "name": "stdin",
     "output_type": "stream",
     "text": [
      "Value of OT Losses 0.8\n"
     ]
    },
    {
     "name": "stdout",
     "output_type": "stream",
     "text": [
      "Updated value of OTL to 0.8\n",
      "{'G': 4.5, 'A': 5.6, 'PTS': 4.5, 'SOG': 3.5, 'STP': 8.7, 'DEF': 4.7, 'W': 9.0, 'SV': 3.4, 'GA': -5.666666, 'OTL': 0.8}\n"
     ]
    }
   ],
   "source": [
    "# Invoke this cell if you'd like to change the scoring values of your category\n",
    "\n",
    "\n",
    "def is_float(check_input):\n",
    "    if \".\" in check_input:\n",
    "        split_number = check_input.split(\".\")\n",
    "        if (\n",
    "            len(split_number) == 2\n",
    "            and split_number[0].isdigit()\n",
    "            and split_number[1].isdigit()\n",
    "        ):\n",
    "            return True\n",
    "    return False\n",
    "\n",
    "\n",
    "def changeScoringValues():\n",
    "    print(f\"Please enter all values as floats (e.g. 1.0)\")\n",
    "\n",
    "    # Goals\n",
    "    goalVal = input(\"Value of Goals\")\n",
    "    if is_float(goalVal):\n",
    "        try:\n",
    "            pointValues[\"G\"] = float(goalVal)\n",
    "            print(f\"Updated value of G to {goalVal}\")\n",
    "        except:\n",
    "            raise ValueError(f\"Invalid input. Value not updated\")\n",
    "            pass\n",
    "\n",
    "    # Assists\n",
    "    assistVal = input(\"Value of Assists\")\n",
    "    if is_float(assistVal):\n",
    "        try:\n",
    "            pointValues[\"A\"] = float(assistVal)\n",
    "            print(f\"Updated value of A to {assistVal}\")\n",
    "        except:\n",
    "            raise ValueError(f\"Invalid input. Value not updated\")\n",
    "            pass\n",
    "\n",
    "    # Points ######\n",
    "    pointVal = input(\"Value of Points\")\n",
    "    if is_float(pointVal):\n",
    "        try:\n",
    "            pointValues[\"PTS\"] = float(pointVal)\n",
    "            print(f\"Updated value of PTS to {pointVal}\")\n",
    "        except:\n",
    "            raise ValueError(f\"Invalid input. Value not updated\")\n",
    "            pass\n",
    "\n",
    "    # Shots on Goal\n",
    "    sogVal = input(\"Value of Shots on Goal\")\n",
    "    if is_float(sogVal):\n",
    "        try:\n",
    "            pointValues[\"SOG\"] = float(sogVal)\n",
    "            print(f\"Updated value of SOG to {sogVal}\")\n",
    "        except:\n",
    "            raise ValueError(f\"Invalid input. Value not updated\")\n",
    "            pass\n",
    "\n",
    "    # Special Teams Points\n",
    "    stpVal = input(\"Value of STP\")\n",
    "    if is_float(stpVal):\n",
    "        try:\n",
    "            pointValues[\"STP\"] = float(stpVal)\n",
    "            print(f\"Updated value of STP to {stpVal}\")\n",
    "        except:\n",
    "            raise ValueError(f\"Invalid input. Value not updated\")\n",
    "            pass\n",
    "\n",
    "    # Defenceman Points\n",
    "    defVal = input(\"Value of DEF\")\n",
    "    if is_float(defVal):\n",
    "        try:\n",
    "            pointValues[\"DEF\"] = float(defVal)\n",
    "            print(f\"Updated value of DEF to {defVal}\")\n",
    "        except:\n",
    "            raise ValueError(f\"Invalid input. Value not updated\")\n",
    "            pass\n",
    "\n",
    "    # Wins\n",
    "    winVal = input(\"Value of Wins\")\n",
    "    if is_float(winVal):\n",
    "        try:\n",
    "            pointValues[\"W\"] = float(winVal)\n",
    "            print(f\"Updated value of W to {winVal}\")\n",
    "        except:\n",
    "            raise ValueError(f\"Invalid input. Value not updated\")\n",
    "            pass\n",
    "\n",
    "    # Saves\n",
    "    saveVal = input(\"Value of Saves\")\n",
    "    if is_float(saveVal):\n",
    "        try:\n",
    "            pointValues[\"SV\"] = float(saveVal)\n",
    "            print(f\"Updated value of SV to {saveVal}\")\n",
    "        except:\n",
    "            raise ValueError(f\"Invalid input. Value not updated\")\n",
    "            pass\n",
    "    5.0\n",
    "    # Goals Against\n",
    "    gaVal = input(\"Value of Goals Against (as positive value)\")\n",
    "    if is_float(gaVal):\n",
    "        try:\n",
    "            pointValues[\"GA\"] = float(gaVal) * -1\n",
    "            print(f\"Updated value of GA to -{gaVal}\")\n",
    "        except:\n",
    "            raise ValueError(f\"Invalid input. Value not updated\")\n",
    "            pass\n",
    "\n",
    "    # OT Loss\n",
    "    otlVal = input(\"Value of OT Losses\")\n",
    "    if is_float(otlVal):\n",
    "        try:\n",
    "            pointValues[\"OTL\"] = float(otlVal)\n",
    "            print(f\"Updated value of OTL to {otlVal}\")\n",
    "        except:\n",
    "            raise ValueError(f\"Invalid input. Value not updated\")\n",
    "            pass\n",
    "\n",
    "\n",
    "# changeScoringValues()\n",
    "print(pointValues)"
   ]
  },
  {
   "cell_type": "code",
   "execution_count": null,
   "id": "540025a5-5121-4c11-90d6-2cb03c76b004",
   "metadata": {},
   "outputs": [],
   "source": [
    "# Hockey-Reference Advanced Stats\n",
    "\n",
    "ASData = pd.read_csv(f\"./data/NHLAdvancedStats_Players2122.csv\")\n",
    "\n",
    "# Parsing Advanced Stats Data\n",
    "advancedDF = pd.DataFrame(ASData)\n",
    "cols = [3, 19, 20, 21, 22, 23]\n",
    "advancedDF = advancedDF[advancedDF.columns[cols]]\n",
    "print(advancedDF)"
   ]
  },
  {
   "cell_type": "code",
   "execution_count": null,
   "id": "a1e0e699-05ed-4f4d-87c8-927251c0165b",
   "metadata": {},
   "outputs": [],
   "source": [
    "# Parsing of HTML and extracting 'TableBase-bodyTr' tag\n",
    "soup = Soup(html)\n",
    "rows = soup.find(\"tr\", {\"class\": \"TableBase-bodyTr\"})\n",
    "headers = soup.find(\"tr\", {\"class\": \"TableBase-headTr\"})"
   ]
  },
  {
   "cell_type": "code",
   "execution_count": null,
   "id": "944a946f-7e0f-4963-b7bb-502cadd3ecc8",
   "metadata": {},
   "outputs": [],
   "source": [
    "# Data to Table (Players)\n",
    "\n",
    "\n",
    "def parse_header(header, pos):\n",
    "    player = header.find(\"a\")[0].text.upper().strip()\n",
    "    position = \"POS\"\n",
    "    team = \"TEAM\"\n",
    "    \n",
    "    # Skaters\n",
    "    if pos != \"G\":\n",
    "        goalsScored = header.find(\"a\")[4].text.upper()\n",
    "        assists = header.find(\"a\")[5].text.upper()\n",
    "        points = header.find(\"a\")[6].text.upper()\n",
    "        shotsOnGoal = header.find(\"a\")[15].text.upper()\n",
    "        return player, team, position, goals, assists, points, shotsOnGoal\n",
    "    # Goalies\n",
    "    else:\n",
    "        wins = header.find(\"a\")[5].text.upper()\n",
    "        shutouts = header.find(\"a\")[7].text.upper()\n",
    "        goalsAgainst = header.find(\"a\")[8].text.upper()\n",
    "        shotsAgainst = header.find(\"a\")[10].text.upper()\n",
    "        saves = header.find(\"a\")[11].text.upper()\n",
    "        return player, team, position, wins, shutouts, goalsAgainst, shotsAgainst, saves\n",
    "\n",
    "\n",
    "def parse_row(row, pos):\n",
    "    # currPlayer is its own class \"CellPlayerName--long\" in 'TableBase-bodyTr'\n",
    "    # Find name, position, team for currPlayer\n",
    "    currPlayer = row.find(\"span\", {\"class\": \"CellPlayerName--long\"})\n",
    "    name = currPlayer.find(\"a\").text\n",
    "    position = currPlayer.find(\"span\", {\"class\": \"CellPlayerName-position\"}).text\n",
    "    team = currPlayer.find(\"span\", {\"class\": \"CellPlayerName-team\"}).text\n",
    "\n",
    "    # Skaters\n",
    "    if pos != \"G\":\n",
    "        goalsScored = int(row.find(\"td\", {\"class\": \"TableBase-bodyTd\"})[4].text)\n",
    "        assists = int(row.find(\"td\", {\"class\": \"TableBase-bodyTd\"})[5].text)\n",
    "        points = int(row.find(\"td\", {\"class\": \"TableBase-bodyTd\"})[6].text)\n",
    "        shotsOnGoal = int(row.find(\"td\", {\"class\": \"TableBase-bodyTd\"})[15].text)\n",
    "        return name, team, position, goals, assists, points, shotsOnGoal\n",
    "    # Goalies\n",
    "    else:\n",
    "        wins = row.find(\"td\", {\"class\": \"TableBase-bodyTd\"})[5].text.strip()\n",
    "        shutouts = row.find(\"td\", {\"class\": \"TableBase-bodyTd\"})[7].text.strip()\n",
    "        goalsAgainst = int(row.find(\"td\", {\"class\": \"TableBase-bodyTd\"})[8].text)\n",
    "        saves = int(row.find(\"td\", {\"class\": \"TableBase-bodyTd\"})[10].text)\n",
    "        shotsAgainst = int(row.find(\"td\", {\"class\": \"TableBase-bodyTd\"})[11].text)\n",
    "\n",
    "        return name, team, position, wins, shutouts, goalsAgainst, shotsAgainst, saves\n",
    "\n",
    "\n",
    "playerInfoDF = pd.DataFrame(\n",
    "    [parse_row(row, position) for row in rows], columns=parse_header(headers, position)\n",
    ")\n",
    "# print(playerInfoDF.columns)\n",
    "# print(advancedDF.columns)\n",
    "# print(playerInfoDF.columns.intersection(advancedDF.columns))\n",
    "\n",
    "\n",
    "if position != \"G\":\n",
    "    result = pd.merge(playerInfoDF, advancedDF, on=\"PLAYER\")\n",
    "else:\n",
    "    result = playerInfoDF\n",
    "print(result)"
   ]
  },
  {
   "cell_type": "code",
   "execution_count": null,
   "id": "55634605-5386-4648-b577-e9e271e1bf28",
   "metadata": {},
   "outputs": [],
   "source": []
  }
 ],
 "metadata": {
  "kernelspec": {
   "display_name": "Python 3 (ipykernel)",
   "language": "python",
   "name": "python3"
  },
  "language_info": {
   "codemirror_mode": {
    "name": "ipython",
    "version": 3
   },
   "file_extension": ".py",
   "mimetype": "text/x-python",
   "name": "python",
   "nbconvert_exporter": "python",
   "pygments_lexer": "ipython3",
   "version": "3.9.7"
  }
 },
 "nbformat": 4,
 "nbformat_minor": 5
}
